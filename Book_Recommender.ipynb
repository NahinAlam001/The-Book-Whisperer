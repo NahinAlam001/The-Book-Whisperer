{
  "nbformat": 4,
  "nbformat_minor": 0,
  "metadata": {
    "colab": {
      "provenance": []
    },
    "kernelspec": {
      "name": "python3",
      "display_name": "Python 3"
    },
    "language_info": {
      "name": "python"
    },
    "accelerator": "TPU"
  },
  "cells": [
    {
      "cell_type": "code",
      "execution_count": 79,
      "metadata": {
        "id": "9qMIHLUkzFqP"
      },
      "outputs": [],
      "source": [
        "import pandas as pd\n",
        "import numpy as np\n",
        "from scipy.sparse import csr_matrix\n",
        "from sklearn.neighbors import NearestNeighbors\n",
        "from sklearn.metrics import mean_squared_error\n",
        "from math import sqrt\n",
        "import pickle"
      ]
    },
    {
      "cell_type": "code",
      "source": [
        "# Load the data\n",
        "books = pd.read_csv('books.csv', sep=\";\", error_bad_lines=False, encoding='latin-1')\n",
        "users = pd.read_csv('users.csv', sep=';', error_bad_lines=False, encoding='latin-1')\n",
        "ratings = pd.read_csv('ratings.csv', sep=';', error_bad_lines=False, encoding='latin-1')"
      ],
      "metadata": {
        "colab": {
          "base_uri": "https://localhost:8080/"
        },
        "id": "Bd50xzYb1ePe",
        "outputId": "4af3cb45-614d-4b05-ee96-c599259229d1"
      },
      "execution_count": 80,
      "outputs": [
        {
          "output_type": "stream",
          "name": "stderr",
          "text": [
            "<ipython-input-80-7b02b8b41cd2>:2: FutureWarning: The error_bad_lines argument has been deprecated and will be removed in a future version. Use on_bad_lines in the future.\n",
            "\n",
            "\n",
            "  books = pd.read_csv('books.csv', sep=\";\", error_bad_lines=False, encoding='latin-1')\n",
            "Skipping line 6452: expected 8 fields, saw 9\n",
            "Skipping line 43667: expected 8 fields, saw 10\n",
            "Skipping line 51751: expected 8 fields, saw 9\n",
            "\n",
            "Skipping line 92038: expected 8 fields, saw 9\n",
            "Skipping line 104319: expected 8 fields, saw 9\n",
            "Skipping line 121768: expected 8 fields, saw 9\n",
            "\n",
            "Skipping line 144058: expected 8 fields, saw 9\n",
            "Skipping line 150789: expected 8 fields, saw 9\n",
            "Skipping line 157128: expected 8 fields, saw 9\n",
            "Skipping line 180189: expected 8 fields, saw 9\n",
            "Skipping line 185738: expected 8 fields, saw 9\n",
            "\n",
            "Skipping line 209388: expected 8 fields, saw 9\n",
            "Skipping line 220626: expected 8 fields, saw 9\n",
            "Skipping line 227933: expected 8 fields, saw 11\n",
            "Skipping line 228957: expected 8 fields, saw 10\n",
            "Skipping line 245933: expected 8 fields, saw 9\n",
            "Skipping line 251296: expected 8 fields, saw 9\n",
            "Skipping line 259941: expected 8 fields, saw 9\n",
            "Skipping line 261529: expected 8 fields, saw 9\n",
            "\n",
            "<ipython-input-80-7b02b8b41cd2>:2: DtypeWarning: Columns (3) have mixed types. Specify dtype option on import or set low_memory=False.\n",
            "  books = pd.read_csv('books.csv', sep=\";\", error_bad_lines=False, encoding='latin-1')\n",
            "<ipython-input-80-7b02b8b41cd2>:3: FutureWarning: The error_bad_lines argument has been deprecated and will be removed in a future version. Use on_bad_lines in the future.\n",
            "\n",
            "\n",
            "  users = pd.read_csv('users.csv', sep=';', error_bad_lines=False, encoding='latin-1')\n",
            "<ipython-input-80-7b02b8b41cd2>:4: FutureWarning: The error_bad_lines argument has been deprecated and will be removed in a future version. Use on_bad_lines in the future.\n",
            "\n",
            "\n",
            "  ratings = pd.read_csv('ratings.csv', sep=';', error_bad_lines=False, encoding='latin-1')\n"
          ]
        }
      ]
    },
    {
      "cell_type": "code",
      "source": [
        "# Rename columns for consistency\n",
        "books = books[['ISBN', 'Book-Title', 'Book-Author', 'Year-Of-Publication', 'Publisher', 'Image-URL-L']]\n",
        "books.rename(columns={\n",
        "    \"Book-Title\": \"title\",\n",
        "    \"Book-Author\": \"author\",\n",
        "    \"Year-Of-Publication\": \"year\",\n",
        "    \"Publisher\": \"publisher\",\n",
        "    \"Image-URL-L\": \"img_url\"\n",
        "}, inplace=True)"
      ],
      "metadata": {
        "colab": {
          "base_uri": "https://localhost:8080/"
        },
        "id": "fSHgEQee1gzN",
        "outputId": "146aa13e-58fa-4982-d780-e95ed628ab43"
      },
      "execution_count": 81,
      "outputs": [
        {
          "output_type": "stream",
          "name": "stderr",
          "text": [
            "<ipython-input-81-a61149f0fcde>:3: SettingWithCopyWarning: \n",
            "A value is trying to be set on a copy of a slice from a DataFrame\n",
            "\n",
            "See the caveats in the documentation: https://pandas.pydata.org/pandas-docs/stable/user_guide/indexing.html#returning-a-view-versus-a-copy\n",
            "  books.rename(columns={\n"
          ]
        }
      ]
    },
    {
      "cell_type": "code",
      "source": [
        "# Filter users with more than 200 ratings\n",
        "x = ratings['User-ID'].value_counts() > 200\n",
        "y = x[x].index\n",
        "ratings = ratings[ratings['User-ID'].isin(y)]"
      ],
      "metadata": {
        "id": "Xr0ESKlx1qsw"
      },
      "execution_count": 82,
      "outputs": []
    },
    {
      "cell_type": "code",
      "source": [
        "# Merge dataframes\n",
        "ratings_with_books = ratings.merge(books, on=\"ISBN\")\n",
        "num_rating = ratings_with_books.groupby('title')['Book-Rating'].count().reset_index()\n",
        "num_rating.rename(columns={'Book-Rating': 'num_of_rating'}, inplace=True)\n",
        "final_rating = ratings_with_books.merge(num_rating, on='title')\n",
        "final_rating = final_rating[final_rating['num_of_rating'] >= 50]\n",
        "final_rating.drop_duplicates(['User-ID', 'title'], inplace=True)"
      ],
      "metadata": {
        "id": "F6XWvU0n1uH5"
      },
      "execution_count": 83,
      "outputs": []
    },
    {
      "cell_type": "code",
      "source": [
        "# Create a pivot table\n",
        "book_pivot = final_rating.pivot_table(columns=\"User-ID\", index='title', values='Book-Rating')\n",
        "book_pivot.fillna(0, inplace=True)\n",
        "book_sparse = csr_matrix(book_pivot)"
      ],
      "metadata": {
        "id": "OG_8fBY71yxp"
      },
      "execution_count": 84,
      "outputs": []
    },
    {
      "cell_type": "code",
      "source": [
        "# Train the model\n",
        "model = NearestNeighbors(algorithm='brute')\n",
        "model.fit(book_sparse)"
      ],
      "metadata": {
        "colab": {
          "base_uri": "https://localhost:8080/",
          "height": 75
        },
        "id": "KlgQJsKX11Bq",
        "outputId": "95a6eb3a-c3e0-419c-cce2-290231f089ae"
      },
      "execution_count": 85,
      "outputs": [
        {
          "output_type": "execute_result",
          "data": {
            "text/plain": [
              "NearestNeighbors(algorithm='brute')"
            ],
            "text/html": [
              "<style>#sk-container-id-7 {color: black;background-color: white;}#sk-container-id-7 pre{padding: 0;}#sk-container-id-7 div.sk-toggleable {background-color: white;}#sk-container-id-7 label.sk-toggleable__label {cursor: pointer;display: block;width: 100%;margin-bottom: 0;padding: 0.3em;box-sizing: border-box;text-align: center;}#sk-container-id-7 label.sk-toggleable__label-arrow:before {content: \"▸\";float: left;margin-right: 0.25em;color: #696969;}#sk-container-id-7 label.sk-toggleable__label-arrow:hover:before {color: black;}#sk-container-id-7 div.sk-estimator:hover label.sk-toggleable__label-arrow:before {color: black;}#sk-container-id-7 div.sk-toggleable__content {max-height: 0;max-width: 0;overflow: hidden;text-align: left;background-color: #f0f8ff;}#sk-container-id-7 div.sk-toggleable__content pre {margin: 0.2em;color: black;border-radius: 0.25em;background-color: #f0f8ff;}#sk-container-id-7 input.sk-toggleable__control:checked~div.sk-toggleable__content {max-height: 200px;max-width: 100%;overflow: auto;}#sk-container-id-7 input.sk-toggleable__control:checked~label.sk-toggleable__label-arrow:before {content: \"▾\";}#sk-container-id-7 div.sk-estimator input.sk-toggleable__control:checked~label.sk-toggleable__label {background-color: #d4ebff;}#sk-container-id-7 div.sk-label input.sk-toggleable__control:checked~label.sk-toggleable__label {background-color: #d4ebff;}#sk-container-id-7 input.sk-hidden--visually {border: 0;clip: rect(1px 1px 1px 1px);clip: rect(1px, 1px, 1px, 1px);height: 1px;margin: -1px;overflow: hidden;padding: 0;position: absolute;width: 1px;}#sk-container-id-7 div.sk-estimator {font-family: monospace;background-color: #f0f8ff;border: 1px dotted black;border-radius: 0.25em;box-sizing: border-box;margin-bottom: 0.5em;}#sk-container-id-7 div.sk-estimator:hover {background-color: #d4ebff;}#sk-container-id-7 div.sk-parallel-item::after {content: \"\";width: 100%;border-bottom: 1px solid gray;flex-grow: 1;}#sk-container-id-7 div.sk-label:hover label.sk-toggleable__label {background-color: #d4ebff;}#sk-container-id-7 div.sk-serial::before {content: \"\";position: absolute;border-left: 1px solid gray;box-sizing: border-box;top: 0;bottom: 0;left: 50%;z-index: 0;}#sk-container-id-7 div.sk-serial {display: flex;flex-direction: column;align-items: center;background-color: white;padding-right: 0.2em;padding-left: 0.2em;position: relative;}#sk-container-id-7 div.sk-item {position: relative;z-index: 1;}#sk-container-id-7 div.sk-parallel {display: flex;align-items: stretch;justify-content: center;background-color: white;position: relative;}#sk-container-id-7 div.sk-item::before, #sk-container-id-7 div.sk-parallel-item::before {content: \"\";position: absolute;border-left: 1px solid gray;box-sizing: border-box;top: 0;bottom: 0;left: 50%;z-index: -1;}#sk-container-id-7 div.sk-parallel-item {display: flex;flex-direction: column;z-index: 1;position: relative;background-color: white;}#sk-container-id-7 div.sk-parallel-item:first-child::after {align-self: flex-end;width: 50%;}#sk-container-id-7 div.sk-parallel-item:last-child::after {align-self: flex-start;width: 50%;}#sk-container-id-7 div.sk-parallel-item:only-child::after {width: 0;}#sk-container-id-7 div.sk-dashed-wrapped {border: 1px dashed gray;margin: 0 0.4em 0.5em 0.4em;box-sizing: border-box;padding-bottom: 0.4em;background-color: white;}#sk-container-id-7 div.sk-label label {font-family: monospace;font-weight: bold;display: inline-block;line-height: 1.2em;}#sk-container-id-7 div.sk-label-container {text-align: center;}#sk-container-id-7 div.sk-container {/* jupyter's `normalize.less` sets `[hidden] { display: none; }` but bootstrap.min.css set `[hidden] { display: none !important; }` so we also need the `!important` here to be able to override the default hidden behavior on the sphinx rendered scikit-learn.org. See: https://github.com/scikit-learn/scikit-learn/issues/21755 */display: inline-block !important;position: relative;}#sk-container-id-7 div.sk-text-repr-fallback {display: none;}</style><div id=\"sk-container-id-7\" class=\"sk-top-container\"><div class=\"sk-text-repr-fallback\"><pre>NearestNeighbors(algorithm=&#x27;brute&#x27;)</pre><b>In a Jupyter environment, please rerun this cell to show the HTML representation or trust the notebook. <br />On GitHub, the HTML representation is unable to render, please try loading this page with nbviewer.org.</b></div><div class=\"sk-container\" hidden><div class=\"sk-item\"><div class=\"sk-estimator sk-toggleable\"><input class=\"sk-toggleable__control sk-hidden--visually\" id=\"sk-estimator-id-7\" type=\"checkbox\" checked><label for=\"sk-estimator-id-7\" class=\"sk-toggleable__label sk-toggleable__label-arrow\">NearestNeighbors</label><div class=\"sk-toggleable__content\"><pre>NearestNeighbors(algorithm=&#x27;brute&#x27;)</pre></div></div></div></div></div>"
            ]
          },
          "metadata": {},
          "execution_count": 85
        }
      ]
    },
    {
      "cell_type": "code",
      "source": [
        "# Save the model and related data\n",
        "books_name = book_pivot.index\n",
        "pickle.dump(model, open('artifacts/model.pkl', 'wb'))\n",
        "pickle.dump(books_name, open('artifacts/books_name.pkl', 'wb'))\n",
        "pickle.dump(final_rating, open('artifacts/final_rating.pkl', 'wb'))\n",
        "pickle.dump(book_pivot, open('artifacts/book_pivot.pkl', 'wb'))"
      ],
      "metadata": {
        "id": "0qNIddSU12_p"
      },
      "execution_count": 86,
      "outputs": []
    },
    {
      "cell_type": "code",
      "source": [
        "def recommend_books(book_name):\n",
        "    # Make recommendations\n",
        "    book_id_candidates = book_pivot.index[book_pivot.index.str.contains(book_name, case=False, regex=False)]\n",
        "\n",
        "    if len(book_id_candidates) == 0:\n",
        "        print(f\"Book '{book_name}' not found in the dataset.\")\n",
        "        return\n",
        "\n",
        "    book_id = book_id_candidates[0]\n",
        "\n",
        "    print(f\"Making recommendations for '{book_name}' (Index: {book_id})\")\n",
        "\n",
        "    try:\n",
        "        _, suggestions = model.kneighbors(book_pivot.loc[book_id, :].values.reshape(1, -1), n_neighbors=6)\n",
        "        suggestions = [book_pivot.index[i] for i in suggestions[0][1:]]  # Map the indices to the original DataFrame\n",
        "        recommendations = {book_name: suggestions}  # Use book_name as the key\n",
        "    except KeyError as e:\n",
        "        print(f\"Error: {e}\")\n",
        "        return\n",
        "\n",
        "    # Print recommendations\n",
        "    print(\"Recommended books:\")\n",
        "    for book_title in suggestions:\n",
        "        print(book_title)\n",
        "\n",
        "    return recommendations"
      ],
      "metadata": {
        "id": "0PGTlHjm8It5"
      },
      "execution_count": 87,
      "outputs": []
    },
    {
      "cell_type": "code",
      "source": [
        "def evaluate_recommendations(book_name, recommendations, test_set_size=0.1):\n",
        "    # Split the data into training and test sets\n",
        "    train_set_size = 1 - test_set_size\n",
        "    train_set = book_pivot.sample(frac=train_set_size, random_state=42)\n",
        "    test_set = book_pivot.drop(train_set.index)\n",
        "\n",
        "    # Evaluate accuracy using MSE\n",
        "    mse_values = []\n",
        "    for book_title in test_set.index:  # Iterate using book titles\n",
        "        actual_ratings = test_set.loc[book_title, :].values\n",
        "        predicted_ratings = np.mean(book_pivot.loc[recommendations[book_name], :].values, axis=0)\n",
        "        mse = mean_squared_error(actual_ratings, predicted_ratings)\n",
        "        mse_values.append(mse)\n",
        "\n",
        "    overall_mse = np.mean(mse_values)\n",
        "    print(f'Mean Squared Error (MSE) for Recommendations: {overall_mse}')"
      ],
      "metadata": {
        "id": "62UKnnaA8JKW"
      },
      "execution_count": 88,
      "outputs": []
    },
    {
      "cell_type": "code",
      "source": [
        "# Example usage\n",
        "book_to_recommend = '1st to Die: A Novel'\n",
        "recommendations = recommend_books(book_to_recommend)"
      ],
      "metadata": {
        "colab": {
          "base_uri": "https://localhost:8080/"
        },
        "id": "Hp6lkClJ8MHY",
        "outputId": "6643ec5b-8677-4810-aab6-b7ca7d2b5940"
      },
      "execution_count": 89,
      "outputs": [
        {
          "output_type": "stream",
          "name": "stdout",
          "text": [
            "Making recommendations for '1st to Die: A Novel' (Index: 1st to Die: A Novel)\n",
            "Recommended books:\n",
            "Exclusive\n",
            "The Cradle Will Fall\n",
            "The Clinic (Alex Delaware Novels (Paperback))\n",
            "No Safe Place\n",
            "The Sum of All Fears (Jack Ryan Novels)\n"
          ]
        }
      ]
    },
    {
      "cell_type": "code",
      "source": [
        "evaluate_recommendations(book_to_recommend, recommendations)"
      ],
      "metadata": {
        "colab": {
          "base_uri": "https://localhost:8080/"
        },
        "id": "7YuEehsI8mQY",
        "outputId": "589b24d8-e3d6-4c97-9b4b-701967fab359"
      },
      "execution_count": 90,
      "outputs": [
        {
          "output_type": "stream",
          "name": "stdout",
          "text": [
            "Mean Squared Error (MSE) for Recommendations: 1.4215041392744094\n"
          ]
        }
      ]
    }
  ]
}